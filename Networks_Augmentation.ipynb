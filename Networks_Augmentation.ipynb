{
  "nbformat": 4,
  "nbformat_minor": 0,
  "metadata": {
    "accelerator": "GPU",
    "colab": {
      "name": "Copy of FullCNN.ipynb",
      "provenance": [],
      "collapsed_sections": [],
      "toc_visible": true,
      "include_colab_link": true
    },
    "kernelspec": {
      "display_name": "Python 3",
      "name": "python3"
    }
  },
  "cells": [
    {
      "cell_type": "markdown",
      "metadata": {
        "id": "view-in-github",
        "colab_type": "text"
      },
      "source": [
        "<a href=\"https://colab.research.google.com/github/usef-kh/Autonoumous-Robotics/blob/master/Networks_Augmentation.ipynb\" target=\"_parent\"><img src=\"https://colab.research.google.com/assets/colab-badge.svg\" alt=\"Open In Colab\"/></a>"
      ]
    },
    {
      "cell_type": "markdown",
      "metadata": {
        "id": "CH85VO8MYwfH"
      },
      "source": [
        "# Setup"
      ]
    },
    {
      "cell_type": "code",
      "metadata": {
        "id": "dMz801qMPXfG"
      },
      "source": [
        "import random\r\n",
        "import collections\r\n",
        "\r\n",
        "import numpy as np\r\n",
        "\r\n",
        "from sklearn.model_selection import train_test_split\r\n",
        "from sklearn.metrics import confusion_matrix\r\n",
        "\r\n",
        "import torch\r\n",
        "import torch.nn as nn\r\n",
        "import torch.nn.functional as F\r\n",
        "from torch.utils.data import Dataset, DataLoader\r\n",
        "import torchvision.transforms as transforms\r\n",
        "\r\n",
        "from PIL import Image\r\n",
        "import matplotlib.pyplot as plt\r\n",
        "from tqdm import tqdm"
      ],
      "execution_count": 3,
      "outputs": []
    },
    {
      "cell_type": "code",
      "metadata": {
        "id": "cFfBchIgtrbP"
      },
      "source": [
        "seed = 42\r\n",
        "\r\n",
        "# np.random.seed(seed)\r\n",
        "# random.seed(seed)\r\n",
        "# # os.environ['PYTHONHASHSEED'] = str(seed)\r\n",
        "# torch.backends.cudnn.benchmark = False\r\n",
        "# torch.backends.cudnn.deterministic = True\r\n",
        "# torch.manual_seed(seed)\r\n",
        "# torch.cuda.manual_seed(seed)\r\n",
        "# torch.cuda.manual_seed_all(seed)"
      ],
      "execution_count": 4,
      "outputs": []
    },
    {
      "cell_type": "markdown",
      "metadata": {
        "id": "mimggoykPQQ_"
      },
      "source": [
        "# Dataset"
      ]
    },
    {
      "cell_type": "code",
      "metadata": {
        "id": "V8Yvp7_9kqnT"
      },
      "source": [
        "def load_file(filename):\r\n",
        "    file = open(filename) \r\n",
        "\r\n",
        "    lines = file.readlines()\r\n",
        "        \r\n",
        "    data = []\r\n",
        "    for line in lines:\r\n",
        "        arr = []\r\n",
        "        for num in line.split(\",\"):\r\n",
        "            arr.append(float(num))\r\n",
        "        data.append(arr)\r\n",
        "\r\n",
        "    return np.array(data)"
      ],
      "execution_count": 5,
      "outputs": []
    },
    {
      "cell_type": "code",
      "metadata": {
        "id": "bPa1YJPmQDMO"
      },
      "source": [
        "class CustomDataset(Dataset):\r\n",
        "    def __init__(self, spectra, labels, augmentation=None):\r\n",
        "        self.spectra = spectra\r\n",
        "        self.labels = labels\r\n",
        "        self.augmentation = augmentation\r\n",
        "\r\n",
        "    def __len__(self):\r\n",
        "        return len(self.spectra)\r\n",
        "\r\n",
        "    def __getitem__(self, idx):\r\n",
        "        if torch.is_tensor(idx):\r\n",
        "            idx = idx.tolist()\r\n",
        "\r\n",
        "        spec = self.spectra[idx].reshape(1, -1)\r\n",
        "        max_Intensity = np.max(spec, axis = 1)\r\n",
        "        if self.augmentation:\r\n",
        "            \r\n",
        "            if random.uniform(0, 1) > 0.5: # noise\r\n",
        "                noise = np.random.normal(0, max_Intensity/40, spec.shape[1]).astype(np.float32)\r\n",
        "                spec = spec + noise\r\n",
        "            \r\n",
        "            # if random.uniform(0, 1) > 0.5: # dropout\r\n",
        "            #     indices = np.random.choice(np.arange(spec.size), replace=False, size=int(spec.size * 0.2))\r\n",
        "            #     spec[:, indices] = 0\r\n",
        "            \r\n",
        "            if random.uniform(0, 1) > 0.5:   # Shift\r\n",
        "                temp = np.zeros(spec.shape).astype(np.float32)\r\n",
        "                shift_count = np.random.randint(1, 30)\r\n",
        "            \r\n",
        "                if random.uniform(0, 1) > 0.5:   # Shift right\r\n",
        "                    temp[:, shift_count:] = spec[:, :-shift_count]\r\n",
        "                else:\r\n",
        "                    temp[:, :-shift_count] = spec[:, shift_count:]\r\n",
        "                \r\n",
        "                spec = temp\r\n",
        "\r\n",
        "        label = torch.tensor(self.labels[idx]).type(torch.long)\r\n",
        "        spec = spec.astype(np.float32)\r\n",
        "        sample = (spec/max_Intensity, label)\r\n",
        "\r\n",
        "        return sample"
      ],
      "execution_count": 6,
      "outputs": []
    },
    {
      "cell_type": "code",
      "metadata": {
        "colab": {
          "base_uri": "https://localhost:8080/"
        },
        "id": "nnhaWqJ3kvBE",
        "outputId": "02536f0f-6846-4686-d2e8-91f848de77d6"
      },
      "source": [
        "# Load data\r\n",
        "Y = []\r\n",
        "data = []\r\n",
        "\r\n",
        "for i in range(4):\r\n",
        "    curr_data = load_file(\"class\" + str(i) + \".txt\")\r\n",
        "    curr_data_2 = load_file(\"class\" + str(i) + \"_2.txt\")\r\n",
        "    \r\n",
        "    data.append(curr_data)\r\n",
        "    data.append(curr_data_2)\r\n",
        "\r\n",
        "    count = len(curr_data) + len(curr_data_2)\r\n",
        "\r\n",
        "    Y.extend([i] * count)\r\n",
        "\r\n",
        "# curr_data = load_file(\"class4.txt\")\r\n",
        "# data.append(curr_data)\r\n",
        "# count = len(curr_data)\r\n",
        "# Y.extend([4] * count)\r\n",
        "\r\n",
        "X = np.vstack(data)\r\n",
        "Y = np.array(Y)\r\n",
        "\r\n",
        "count = collections.defaultdict(int)\r\n",
        "for num in Y:\r\n",
        "    count[num] += 1\r\n",
        "\r\n",
        "classes_count = len(count.keys())\r\n",
        "\r\n",
        "for i in sorted(count.keys()):\r\n",
        "    print(\"Class\", i, \"Count:\", count[i])"
      ],
      "execution_count": 7,
      "outputs": [
        {
          "output_type": "stream",
          "text": [
            "Class 0 Count: 1355\n",
            "Class 1 Count: 1386\n",
            "Class 2 Count: 727\n",
            "Class 3 Count: 951\n"
          ],
          "name": "stdout"
        }
      ]
    },
    {
      "cell_type": "code",
      "metadata": {
        "colab": {
          "base_uri": "https://localhost:8080/"
        },
        "id": "yCXt_xb4QNTo",
        "outputId": "a17aa95c-e1d4-4b05-f468-4fa121146dfa"
      },
      "source": [
        "# Split data into train, val, & test sets\r\n",
        "xtrain, xval, ytrain, yval = train_test_split(X, Y, stratify=Y, train_size=0.8, random_state=seed, shuffle=True)\r\n",
        "# xtrain, xval, ytrain, yval = train_test_split(xtrain, ytrain, stratify=ytrain, train_size=0.8, random_state=seed, shuffle=True)\r\n",
        "\r\n",
        "print(\"X shape:\\t\", X.shape)\r\n",
        "print(\"xtrain shape:\\t\", xtrain.shape)\r\n",
        "print(\"xval shape:\\t\", xval.shape)\r\n",
        "# print(\"xtest shape:\\t\", xtest.shape, '\\n')\r\n",
        "\r\n",
        "print()\r\n",
        "\r\n",
        "print(\"Y shape:\\t\", Y.shape)\r\n",
        "print(\"ytrain shape:\\t\", ytrain.shape)\r\n",
        "print(\"yval shape:\\t\", yval.shape)\r\n",
        "# print(\"ytest shape:\\t\", ytest.shape)"
      ],
      "execution_count": 8,
      "outputs": [
        {
          "output_type": "stream",
          "text": [
            "X shape:\t (4419, 728)\n",
            "xtrain shape:\t (3535, 728)\n",
            "xval shape:\t (884, 728)\n",
            "\n",
            "Y shape:\t (4419,)\n",
            "ytrain shape:\t (3535,)\n",
            "yval shape:\t (884,)\n"
          ],
          "name": "stdout"
        }
      ]
    },
    {
      "cell_type": "markdown",
      "metadata": {
        "id": "t8bHvsWaRGVP"
      },
      "source": [
        "# Models"
      ]
    },
    {
      "cell_type": "code",
      "metadata": {
        "id": "ljv7JatiiWIE"
      },
      "source": [
        "class CNN(nn.Module):\r\n",
        "    def __init__(self):\r\n",
        "        super().__init__()\r\n",
        "\r\n",
        "        self.conv1 = nn.Conv1d(1, 2, 9, 1)  \r\n",
        "        self.conv2 = nn.Conv1d(2, 2, 7, 1)  \r\n",
        "        self.conv3 = nn.Conv1d(2, 4, 7, 1)  \r\n",
        "        self.conv4 = nn.Conv1d(4, 8, 5, 1)\r\n",
        "        self.conv5 = nn.Conv1d(8, 12, 3, 1)\r\n",
        "\r\n",
        "        self.bn1 = nn.BatchNorm1d(2)\r\n",
        "        self.bn2 = nn.BatchNorm1d(2)\r\n",
        "        self.bn3 = nn.BatchNorm1d(4)\r\n",
        "        self.bn4 = nn.BatchNorm1d(8)\r\n",
        "        self.bn5 = nn.BatchNorm1d(12)\r\n",
        "\r\n",
        "        self.fc1 = nn.Linear(12 * 19, 128)\r\n",
        "        self.fc2 = nn.Linear(128, classes_count)   \r\n",
        "        self.pool = nn.AvgPool1d(2)\r\n",
        "\r\n",
        "        self.softmax = nn.Softmax(dim=1)\r\n",
        "    \r\n",
        "    def forward(self, x):\r\n",
        "        x = self.pool(self.bn1(F.relu(self.conv1(x))))\r\n",
        "        x = self.pool(self.bn2(F.relu(self.conv2(x))))\r\n",
        "        x = self.pool(self.bn3(F.relu(self.conv3(x))))\r\n",
        "        x = self.pool(self.bn4(F.relu(self.conv4(x))))\r\n",
        "        x = self.pool(self.bn5(F.relu(self.conv5(x))))\r\n",
        "        \r\n",
        "        x = x.view(-1, 12 * 19)\r\n",
        "        \r\n",
        "        x = F.relu(self.fc1(x))\r\n",
        "        x = F.relu(self.fc2(x))\r\n",
        "        x = self.softmax(x)  \r\n",
        "        \r\n",
        "        return x\r\n",
        "\r\n",
        "    def embed(self, x):\r\n",
        "        x = self.pool(self.bn1(F.relu(self.conv1(x))))\r\n",
        "        x = self.pool(self.bn2(F.relu(self.conv2(x))))\r\n",
        "        x = self.pool(self.bn3(F.relu(self.conv3(x))))\r\n",
        "        x = self.pool(self.bn4(F.relu(self.conv4(x))))\r\n",
        "        x = self.pool(self.bn5(F.relu(self.conv5(x))))\r\n",
        "        x = x.view(-1, 12 * 22)\r\n",
        "        x = F.relu(self.fc1(x))\r\n",
        "        \r\n",
        "        return x"
      ],
      "execution_count": 9,
      "outputs": []
    },
    {
      "cell_type": "code",
      "metadata": {
        "id": "v08Mv_qbpcg6"
      },
      "source": [
        "class FullCNN(nn.Module):\r\n",
        "    def __init__(self):\r\n",
        "        super().__init__()\r\n",
        "\r\n",
        "        self.conv1 = nn.Conv1d(1, 2, 9, 1)  \r\n",
        "        self.conv2 = nn.Conv1d(2, 2, 7, 1)  \r\n",
        "        self.conv3 = nn.Conv1d(2, 4, 7, 1)  \r\n",
        "        self.conv4 = nn.Conv1d(4, 8, 5, 1)\r\n",
        "        self.conv5 = nn.Conv1d(8, 12, 3, 1)\r\n",
        "\r\n",
        "        self.conv6 = nn.Conv1d(12, classes_count, 1, 1)\r\n",
        "        self.gap = nn.AvgPool2d((1, 19))\r\n",
        "\r\n",
        "        self.bn1 = nn.BatchNorm1d(2)\r\n",
        "        self.bn2 = nn.BatchNorm1d(2)\r\n",
        "        self.bn3 = nn.BatchNorm1d(4)\r\n",
        "        self.bn4 = nn.BatchNorm1d(8)\r\n",
        "        self.bn5 = nn.BatchNorm1d(12)\r\n",
        "        self.bn6 = nn.BatchNorm1d(classes_count)\r\n",
        "\r\n",
        "        self.fc1 = nn.Linear(12 * 19, classes_count)\r\n",
        "            \r\n",
        "        self.pool = nn.AvgPool1d(2)\r\n",
        "\r\n",
        "        self.softmax = nn.Softmax(dim=1)\r\n",
        "    \r\n",
        "    def forward(self, x):\r\n",
        "        \r\n",
        "        x = self.pool(self.bn1(F.relu(self.conv1(x))))\r\n",
        "        x = self.pool(self.bn2(F.relu(self.conv2(x))))\r\n",
        "        x = self.pool(self.bn3(F.relu(self.conv3(x))))\r\n",
        "        x = self.pool(self.bn4(F.relu(self.conv4(x))))\r\n",
        "        x = self.pool(self.bn5(F.relu(self.conv5(x))))\r\n",
        "        x = self.bn6(F.relu(self.conv6(x)))\r\n",
        "\r\n",
        "        x = self.gap(x)\r\n",
        "        \r\n",
        "        x = x.view(-1, classes_count)\r\n",
        "        x = self.softmax(x)  \r\n",
        "        \r\n",
        "        return x"
      ],
      "execution_count": 10,
      "outputs": []
    },
    {
      "cell_type": "code",
      "metadata": {
        "id": "wVS6Eb6pitoW"
      },
      "source": [
        "class MultiHead(nn.Module):\r\n",
        "    \r\n",
        "    def __init__(self):\r\n",
        "        super().__init__()\r\n",
        "\r\n",
        "        self.conv1a = nn.Conv1d(1, 8, 3, 1)  \r\n",
        "        self.conv2a = nn.Conv1d(1, 8, 5, 1)  \r\n",
        "        self.conv3a = nn.Conv1d(1, 8, 7, 1)\r\n",
        "\r\n",
        "        self.conv1b = nn.Conv1d(8, 4, 3, 1)  \r\n",
        "        self.conv2b = nn.Conv1d(8, 4, 5, 1)  \r\n",
        "        self.conv3b = nn.Conv1d(8, 4, 7, 1)\r\n",
        "\r\n",
        "        self.drop = nn.Dropout(0.001)\r\n",
        "        self.pool = nn.MaxPool1d(2)\r\n",
        "\r\n",
        "        self.fc1 = nn.Linear(2144, classes_count)\r\n",
        "\r\n",
        "        self.softmax = nn.Softmax(dim=1)\r\n",
        "\r\n",
        "    def forward(self, x):\r\n",
        "\r\n",
        "        x1 = self.pool(self.drop(F.relu(self.conv1a(x))))\r\n",
        "        x2 = self.pool(self.drop(F.relu(self.conv2a(x))))\r\n",
        "        x3 = self.pool(self.drop(F.relu(self.conv3a(x))))\r\n",
        "\r\n",
        "        x1 = self.pool(self.drop(F.relu(self.conv1b(x1))))\r\n",
        "        x2 = self.pool(self.drop(F.relu(self.conv2b(x2))))\r\n",
        "        x3 = self.pool(self.drop(F.relu(self.conv3b(x3))))\r\n",
        "\r\n",
        "        x1 = x1.view(-1, 4 * 180)\r\n",
        "        x2 = x2.view(-1, 4 * 179)\r\n",
        "        x3 = x3.view(-1, 4 * 177)\r\n",
        "    \r\n",
        "        x = torch.cat((x1, x2, x3), dim=1)\r\n",
        "\r\n",
        "        x = F.relu(self.fc1(x))\r\n",
        "        \r\n",
        "        x = self.softmax(x.view(-1, classes_count))\r\n",
        "\r\n",
        "        return x"
      ],
      "execution_count": 11,
      "outputs": []
    },
    {
      "cell_type": "code",
      "metadata": {
        "id": "QPNwFa_IZ9so"
      },
      "source": [
        "class Dense(nn.Module):\r\n",
        "    def __init__(self):\r\n",
        "        super().__init__()\r\n",
        "        \r\n",
        "        self.fc1 = nn.Linear(728, 1024)\r\n",
        "        self.fc2 = nn.Linear(1024, 512)\r\n",
        "        self.fc3 = nn.Linear(512, 256)\r\n",
        "        self.fc4 = nn.Linear(256, 128)\r\n",
        "        self.fc5 = nn.Linear(128, 64)\r\n",
        "        self.fc6 = nn.Linear(64, 16)\r\n",
        "        self.fc7 = nn.Linear(16, classes_count)\r\n",
        "\r\n",
        "        self.softmax = nn.Softmax(dim=1)\r\n",
        "\r\n",
        "    def forward(self, x):\r\n",
        "        \r\n",
        "        x = F.relu(self.fc1(x))\r\n",
        "        x = F.relu(self.fc2(x))\r\n",
        "        x = F.relu(self.fc3(x))\r\n",
        "        x = F.relu(self.fc4(x))\r\n",
        "        x = F.relu(self.fc5(x))\r\n",
        "        x = F.relu(self.fc6(x))\r\n",
        "        x = F.relu(self.fc7(x))\r\n",
        "        x = self.softmax(x.view(-1, classes_count))\r\n",
        "\r\n",
        "        return x"
      ],
      "execution_count": 12,
      "outputs": []
    },
    {
      "cell_type": "markdown",
      "metadata": {
        "id": "4xQ8NOxETR8E"
      },
      "source": [
        "# Training and Evaluation Loops"
      ]
    },
    {
      "cell_type": "code",
      "metadata": {
        "id": "am55e78i5tXo"
      },
      "source": [
        "def train(net, dataloader, criterion, optimizer):\r\n",
        "    net = net.train()   \r\n",
        "    loss_tr, correct_count, n_samples = 0.0, 0.0, 0.0\r\n",
        "    for i, data in enumerate(dataloader):\r\n",
        "        inputs, labels = data\r\n",
        "        inputs, labels = inputs.float().to(device), labels.to(device)\r\n",
        "\r\n",
        "        # zero the parameter gradients\r\n",
        "        optimizer.zero_grad()\r\n",
        "\r\n",
        "        # forward + backward + optimize\r\n",
        "        outputs = net(inputs)\r\n",
        "        loss = criterion(outputs, labels)\r\n",
        "        loss.backward()\r\n",
        "        optimizer.step()\r\n",
        "\r\n",
        "        # calculate performance metrics\r\n",
        "        loss_tr += loss.item()\r\n",
        "\r\n",
        "        _, preds = torch.max(outputs.data, 1)\r\n",
        "        correct_count += (preds == labels).sum().item()\r\n",
        "        n_samples += labels.size(0)\r\n",
        "\r\n",
        "    acc = 100 * correct_count / n_samples\r\n",
        "    loss = loss_tr / n_samples\r\n",
        "\r\n",
        "    return acc, loss"
      ],
      "execution_count": 13,
      "outputs": []
    },
    {
      "cell_type": "code",
      "metadata": {
        "id": "_7ifc8tfXV8U"
      },
      "source": [
        "def evaluate(net, dataloader, criterion):\r\n",
        "    with torch.no_grad():  # remove gradient calculation, by default, in evaluation mode, torch will still calculate gradient. \r\n",
        "        net = net.eval()\r\n",
        "        loss_tr, correct_count, n_samples, preds = 0.0, 0.0, 0.0, []\r\n",
        "        for data in dataloader:\r\n",
        "            inputs, labels = data\r\n",
        "            inputs, labels = inputs.float().to(device), labels.to(device)\r\n",
        "\r\n",
        "            outputs = net(inputs)\r\n",
        "            loss = criterion(outputs, labels)\r\n",
        "\r\n",
        "            # calculate performance metrics\r\n",
        "            loss_tr += loss.item()\r\n",
        "\r\n",
        "            _, pred = torch.max(outputs.data, 1)\r\n",
        "            preds.extend([p.item() for p in pred])\r\n",
        "            correct_count += (pred == labels).sum().item()\r\n",
        "            n_samples += labels.size(0)\r\n",
        "\r\n",
        "        acc = 100 * correct_count / n_samples\r\n",
        "        loss = loss_tr / n_samples\r\n",
        "\r\n",
        "    return acc, loss, preds"
      ],
      "execution_count": 14,
      "outputs": []
    },
    {
      "cell_type": "code",
      "metadata": {
        "id": "W7BfYBCI8V0Q"
      },
      "source": [
        "def get_all_acc(net, dataloader, criterion):\r\n",
        "\r\n",
        "    confusion_matrix = torch.zeros(classes_count, classes_count)\r\n",
        "    with torch.no_grad():\r\n",
        "        for i, (inputs, classes) in enumerate(dataloader):\r\n",
        "            inputs = inputs.float().to(device)\r\n",
        "            classes = classes.to(device)\r\n",
        "            \r\n",
        "            outputs = net(inputs)\r\n",
        "            \r\n",
        "            _, preds = torch.max(outputs.data, 1)\r\n",
        "            for t, p in zip(classes.view(-1), preds.view(-1)):\r\n",
        "                    confusion_matrix[t.long(), p.long()] += 1\r\n",
        "\r\n",
        "    per_class_acc = confusion_matrix.diag()/confusion_matrix.sum(1)\r\n",
        "    aggregate_acc = confusion_matrix.diag().sum() / confusion_matrix.sum()\r\n",
        "\r\n",
        "    return [num.item() for num in (aggregate_acc, *per_class_acc)]"
      ],
      "execution_count": 15,
      "outputs": []
    },
    {
      "cell_type": "code",
      "metadata": {
        "id": "NINys1uHoDrD"
      },
      "source": [
        "def count_parameters(model):\r\n",
        "    return sum(p.numel() for p in model.parameters() if p.requires_grad)"
      ],
      "execution_count": 16,
      "outputs": []
    },
    {
      "cell_type": "code",
      "metadata": {
        "id": "fN8yVfMLcl3E"
      },
      "source": [
        "device = torch.device(\"cuda:0\" if torch.cuda.is_available() else \"cpu\")\r\n",
        "criterion = nn.CrossEntropyLoss()\r\n",
        "\r\n",
        "def run(model):\r\n",
        "    # Setup \r\n",
        "    \r\n",
        "    model = model.float().to(device)\r\n",
        "    optimizer = torch.optim.Adam(model.parameters(), lr=hps['lr'])\r\n",
        "\r\n",
        "\r\n",
        "    best_accuracy = 0\r\n",
        "\r\n",
        "    # print(\"Device:\", device)\r\n",
        "    # print(\"Number of Parameters:\", count_parameters(model), '\\n')\r\n",
        "\r\n",
        "    for epoch in range(hps['epochs']):\r\n",
        "        # pass through train and val dataloaders\r\n",
        "        acc_tr, loss_tr = train(model, trainloader, criterion, optimizer)\r\n",
        "        acc_v, loss_v, preds = evaluate(model, valloader, criterion)\r\n",
        "        \r\n",
        "        if acc_v > best_accuracy:\r\n",
        "            best_accuracy = acc_v\r\n",
        "\r\n",
        "            torch.save(model.state_dict(), \"best_params\")\r\n",
        "\r\n",
        "        if best_accuracy == 100:\r\n",
        "            break\r\n",
        "\r\n",
        "    model.load_state_dict(torch.load(\"best_params\"))\r\n",
        "    \r\n",
        "    return model\r\n"
      ],
      "execution_count": 17,
      "outputs": []
    },
    {
      "cell_type": "markdown",
      "metadata": {
        "id": "gUrNJbnFgmhY"
      },
      "source": [
        "# CNN"
      ]
    },
    {
      "cell_type": "code",
      "metadata": {
        "id": "PrGHCOmwgzKY"
      },
      "source": [
        "# Hyperparameters\r\n",
        "hps = {\r\n",
        "    'bs': 64,\r\n",
        "    'epochs': 100,\r\n",
        "    'lr': 0.001,\r\n",
        "    'augment': True,\r\n",
        "}"
      ],
      "execution_count": null,
      "outputs": []
    },
    {
      "cell_type": "code",
      "metadata": {
        "colab": {
          "base_uri": "https://localhost:8080/"
        },
        "id": "Xqfxk_lp9_NH",
        "outputId": "3ee28bce-6bde-4a80-c2a3-da7d32e9b6d7"
      },
      "source": [
        "# Build pytorch Datasets and Dataloaders\r\n",
        "data_train = CustomDataset(xtrain, ytrain, augmentation=hps['augment'])\r\n",
        "data_val = CustomDataset(xval, yval)\r\n",
        "\r\n",
        "trainloader = DataLoader(data_train, batch_size=hps['bs'], shuffle=True, num_workers=2)\r\n",
        "valloader = DataLoader(data_val, batch_size=hps['bs'], shuffle=False, num_workers=2)\r\n",
        "\r\n",
        "accs = []\r\n",
        "\r\n",
        "# setup progress bar\r\n",
        "pbar = tqdm(range(300))\r\n",
        "\r\n",
        "for i in pbar:\r\n",
        "\r\n",
        "    model = run(CNN())\r\n",
        "\r\n",
        "    all_acc = get_all_acc(model, valloader, criterion)\r\n",
        "    accs.append(all_acc)\r\n",
        "\r\n",
        "accs = np.array(accs)"
      ],
      "execution_count": null,
      "outputs": [
        {
          "output_type": "stream",
          "text": [
            "100%|██████████| 300/300 [8:09:19<00:00, 97.87s/it] \n"
          ],
          "name": "stderr"
        }
      ]
    },
    {
      "cell_type": "code",
      "metadata": {
        "colab": {
          "base_uri": "https://localhost:8080/",
          "height": 17
        },
        "id": "T7TkAgFMMEG5",
        "outputId": "e74b93eb-2dbd-4ab0-e8a3-7bf09d3101a5"
      },
      "source": [
        "from google.colab import files\r\n",
        "\r\n",
        "torch.save(accs, 'cnn_accs_augment')\r\n",
        "files.download('cnn_accs_augment') "
      ],
      "execution_count": null,
      "outputs": [
        {
          "output_type": "display_data",
          "data": {
            "application/javascript": [
              "\n",
              "    async function download(id, filename, size) {\n",
              "      if (!google.colab.kernel.accessAllowed) {\n",
              "        return;\n",
              "      }\n",
              "      const div = document.createElement('div');\n",
              "      const label = document.createElement('label');\n",
              "      label.textContent = `Downloading \"${filename}\": `;\n",
              "      div.appendChild(label);\n",
              "      const progress = document.createElement('progress');\n",
              "      progress.max = size;\n",
              "      div.appendChild(progress);\n",
              "      document.body.appendChild(div);\n",
              "\n",
              "      const buffers = [];\n",
              "      let downloaded = 0;\n",
              "\n",
              "      const channel = await google.colab.kernel.comms.open(id);\n",
              "      // Send a message to notify the kernel that we're ready.\n",
              "      channel.send({})\n",
              "\n",
              "      for await (const message of channel.messages) {\n",
              "        // Send a message to notify the kernel that we're ready.\n",
              "        channel.send({})\n",
              "        if (message.buffers) {\n",
              "          for (const buffer of message.buffers) {\n",
              "            buffers.push(buffer);\n",
              "            downloaded += buffer.byteLength;\n",
              "            progress.value = downloaded;\n",
              "          }\n",
              "        }\n",
              "      }\n",
              "      const blob = new Blob(buffers, {type: 'application/binary'});\n",
              "      const a = document.createElement('a');\n",
              "      a.href = window.URL.createObjectURL(blob);\n",
              "      a.download = filename;\n",
              "      div.appendChild(a);\n",
              "      a.click();\n",
              "      div.remove();\n",
              "    }\n",
              "  "
            ],
            "text/plain": [
              "<IPython.core.display.Javascript object>"
            ]
          },
          "metadata": {
            "tags": []
          }
        },
        {
          "output_type": "display_data",
          "data": {
            "application/javascript": [
              "download(\"download_81fd0131-0aa1-409f-b950-d2cc39f3b4e6\", \"cnn_accs_augment\", 15535)"
            ],
            "text/plain": [
              "<IPython.core.display.Javascript object>"
            ]
          },
          "metadata": {
            "tags": []
          }
        }
      ]
    },
    {
      "cell_type": "code",
      "metadata": {
        "colab": {
          "base_uri": "https://localhost:8080/",
          "height": 1000
        },
        "id": "iiofRXlAJH0z",
        "outputId": "3f1a0d5a-6e5a-4cd2-b3ba-e384ed17b1a4"
      },
      "source": [
        "plt.figure()\r\n",
        "plt.hist(accs[:, 0])\r\n",
        "plt.title(\"Aggregate Accuracy\")\r\n",
        "plt.show()\r\n",
        "\r\n",
        "plt.figure()\r\n",
        "plt.hist(accs[:, 1])\r\n",
        "plt.title(\"Class 0 Accuracy\")\r\n",
        "plt.show()\r\n",
        "\r\n",
        "plt.figure()\r\n",
        "plt.hist(accs[:, 2])\r\n",
        "plt.title(\"Class 1 Accuracy\")\r\n",
        "plt.show()\r\n",
        "\r\n",
        "plt.figure()\r\n",
        "plt.hist(accs[:, 3])\r\n",
        "plt.title(\"Class 2 Accuracy\")\r\n",
        "plt.show()\r\n",
        "\r\n",
        "plt.figure()\r\n",
        "plt.hist(accs[:, 4])\r\n",
        "plt.title(\"Class 3 Accuracy\")\r\n",
        "plt.show()"
      ],
      "execution_count": null,
      "outputs": [
        {
          "output_type": "display_data",
          "data": {
            "image/png": "[encoded data removed]",
            "text/plain": [
              "<Figure size 432x288 with 1 Axes>"
            ]
          },
          "metadata": {
            "tags": []
          }
        },
        {
          "output_type": "display_data",
          "data": {
            "image/png": "[encoded data removed]",
            "text/plain": [
              "<Figure size 432x288 with 1 Axes>"
            ]
          },
          "metadata": {
            "tags": []
          }
        },
        {
          "output_type": "display_data",
          "data": {
            "image/png": "[encoded data removed]",
            "text/plain": [
              "<Figure size 432x288 with 1 Axes>"
            ]
          },
          "metadata": {
            "tags": []
          }
        },
        {
          "output_type": "display_data",
          "data": {
            "image/png": "[encoded data removed]",
            "text/plain": [
              "<Figure size 432x288 with 1 Axes>"
            ]
          },
          "metadata": {
            "tags": []
          }
        },
        {
          "output_type": "display_data",
          "data": {
            "image/png": "[encoded data removed]",
            "text/plain": [
              "<Figure size 432x288 with 1 Axes>"
            ]
          },
          "metadata": {
            "tags": []
          }
        }
      ]
    },
    {
      "cell_type": "markdown",
      "metadata": {
        "id": "NHqCVrVbhSjN"
      },
      "source": [
        "# Full CNN"
      ]
    },
    {
      "cell_type": "code",
      "metadata": {
        "id": "LGVkZSwmdbrU"
      },
      "source": [
        "# # Hyperparameters\r\n",
        "# hps = {\r\n",
        "#     'bs': 16,\r\n",
        "#     'epochs': 100,\r\n",
        "#     'lr': 0.001,\r\n",
        "#     'augment': False,\r\n",
        "# }"
      ],
      "execution_count": null,
      "outputs": []
    },
    {
      "cell_type": "code",
      "metadata": {
        "id": "-GO95SZUhXYr"
      },
      "source": [
        "# # Build pytorch Datasets and Dataloaders\r\n",
        "# data_train = CustomDataset(xtrain, ytrain, augmentation=hps['augment'])\r\n",
        "# data_val = CustomDataset(xval, yval)\r\n",
        "\r\n",
        "# trainloader = DataLoader(data_train, batch_size=hps['bs'], shuffle=True, num_workers=2)\r\n",
        "# valloader = DataLoader(data_val, batch_size=hps['bs'], shuffle=False, num_workers=2)\r\n",
        "\r\n",
        "# accs = []\r\n",
        "\r\n",
        "# # setup progress bar\r\n",
        "# pbar = tqdm(range(150))\r\n",
        "\r\n",
        "# for i in pbar:\r\n",
        "\r\n",
        "#     model = run(FullCNN())\r\n",
        "\r\n",
        "#     all_acc = get_all_acc(model, valloader, criterion)\r\n",
        "#     accs.append(all_acc)\r\n",
        "\r\n",
        "# accs = np.array(accs)"
      ],
      "execution_count": null,
      "outputs": []
    },
    {
      "cell_type": "code",
      "metadata": {
        "id": "kCw7sK0JaNoA"
      },
      "source": [
        "# from google.colab import files\r\n",
        "\r\n",
        "# torch.save(accs, 'fullcnn_accs')\r\n",
        "# files.download('fullcnn_accs') "
      ],
      "execution_count": null,
      "outputs": []
    },
    {
      "cell_type": "code",
      "metadata": {
        "id": "c7Ok8-uHA3VV"
      },
      "source": [
        "# plt.figure()\r\n",
        "# plt.hist(accs[:, 0])\r\n",
        "# plt.title(\"Aggregate Accuracy\")\r\n",
        "# plt.show()\r\n",
        "\r\n",
        "# plt.figure()\r\n",
        "# plt.hist(accs[:, 1])\r\n",
        "# plt.title(\"Class 0 Accuracy\")\r\n",
        "# plt.show()\r\n",
        "\r\n",
        "# plt.figure()\r\n",
        "# plt.hist(accs[:, 2])\r\n",
        "# plt.title(\"Class 1 Accuracy\")\r\n",
        "# plt.show()\r\n",
        "\r\n",
        "# plt.figure()\r\n",
        "# plt.hist(accs[:, 3])\r\n",
        "# plt.title(\"Class 2 Accuracy\")\r\n",
        "# plt.show()\r\n",
        "\r\n",
        "# plt.figure()\r\n",
        "# plt.hist(accs[:, 4])\r\n",
        "# plt.title(\"Class 3 Accuracy\")\r\n",
        "# plt.show()"
      ],
      "execution_count": null,
      "outputs": []
    },
    {
      "cell_type": "markdown",
      "metadata": {
        "id": "_fk-Dt3ChvmT"
      },
      "source": [
        "# MultiHead CNN"
      ]
    },
    {
      "cell_type": "code",
      "metadata": {
        "id": "ypo3_Ve4hui1"
      },
      "source": [
        "# Hyperparameters\r\n",
        "hps = {\r\n",
        "    'bs': 128,\r\n",
        "    'epochs': 100,\r\n",
        "    'lr': 0.001,\r\n",
        "    'augment': True,\r\n",
        "}"
      ],
      "execution_count": 18,
      "outputs": []
    },
    {
      "cell_type": "code",
      "metadata": {
        "id": "mGuy52OIBGb2"
      },
      "source": [
        "# Build pytorch Datasets and Dataloaders\r\n",
        "data_train = CustomDataset(xtrain, ytrain, augmentation=hps['augment'])\r\n",
        "data_val = CustomDataset(xval, yval)\r\n",
        "\r\n",
        "trainloader = DataLoader(data_train, batch_size=hps['bs'], shuffle=True, num_workers=2)\r\n",
        "valloader = DataLoader(data_val, batch_size=hps['bs'], shuffle=False, num_workers=2)\r\n",
        "\r\n",
        "accs = []\r\n",
        "\r\n",
        "# setup progress bar\r\n",
        "pbar = tqdm(range(300))\r\n",
        "\r\n",
        "for i in pbar:\r\n",
        "\r\n",
        "    model = run(MultiHead())\r\n",
        "\r\n",
        "    all_acc = get_all_acc(model, valloader, criterion)\r\n",
        "    accs.append(all_acc)\r\n",
        "\r\n",
        "accs = np.array(accs)"
      ],
      "execution_count": null,
      "outputs": []
    },
    {
      "cell_type": "code",
      "metadata": {
        "id": "dppInjyqSjTk"
      },
      "source": [
        "from google.colab import files\r\n",
        "\r\n",
        "torch.save(accs, 'multihead_accs_augment')\r\n",
        "files.download('multihead_accs_augment') "
      ],
      "execution_count": null,
      "outputs": []
    },
    {
      "cell_type": "code",
      "metadata": {
        "id": "sKeI6cV9h0FV"
      },
      "source": [
        "plt.figure()\r\n",
        "plt.hist(accs[:, 0])\r\n",
        "plt.title(\"Aggregate Accuracy\")\r\n",
        "plt.show()\r\n",
        "\r\n",
        "plt.figure()\r\n",
        "plt.hist(accs[:, 1])\r\n",
        "plt.title(\"Class 0 Accuracy\")\r\n",
        "plt.show()\r\n",
        "\r\n",
        "plt.figure()\r\n",
        "plt.hist(accs[:, 2])\r\n",
        "plt.title(\"Class 1 Accuracy\")\r\n",
        "plt.show()\r\n",
        "\r\n",
        "plt.figure()\r\n",
        "plt.hist(accs[:, 3])\r\n",
        "plt.title(\"Class 2 Accuracy\")\r\n",
        "plt.show()\r\n",
        "\r\n",
        "plt.figure()\r\n",
        "plt.hist(accs[:, 4])\r\n",
        "plt.title(\"Class 3 Accuracy\")\r\n",
        "plt.show()"
      ],
      "execution_count": null,
      "outputs": []
    },
    {
      "cell_type": "markdown",
      "metadata": {
        "id": "XaXXNFyCiRDC"
      },
      "source": [
        "# Dense "
      ]
    },
    {
      "cell_type": "code",
      "metadata": {
        "id": "KOHPq-Apia8Q"
      },
      "source": [
        "# Hyperparameters\r\n",
        "hps = {\r\n",
        "    'bs': 64,\r\n",
        "    'epochs': 100,\r\n",
        "    'lr': 0.001,\r\n",
        "    'augment': True,\r\n",
        "}"
      ],
      "execution_count": null,
      "outputs": []
    },
    {
      "cell_type": "code",
      "metadata": {
        "id": "MCK2CNEOifgn"
      },
      "source": [
        "# Build pytorch Datasets and Dataloaders\r\n",
        "data_train = CustomDataset(xtrain, ytrain, augmentation=hps['augment'])\r\n",
        "data_val = CustomDataset(xval, yval)\r\n",
        "\r\n",
        "trainloader = DataLoader(data_train, batch_size=hps['bs'], shuffle=True, num_workers=2)\r\n",
        "valloader = DataLoader(data_val, batch_size=hps['bs'], shuffle=False, num_workers=2)\r\n",
        "\r\n",
        "accs = []\r\n",
        "\r\n",
        "# setup progress bar\r\n",
        "pbar = tqdm(range(300))\r\n",
        "\r\n",
        "for i in pbar:\r\n",
        "\r\n",
        "    model = run(Dense())\r\n",
        "\r\n",
        "    all_acc = get_all_acc(model, valloader, criterion)\r\n",
        "    accs.append(all_acc)\r\n",
        "\r\n",
        "accs = np.array(accs)"
      ],
      "execution_count": null,
      "outputs": []
    },
    {
      "cell_type": "code",
      "metadata": {
        "colab": {
          "base_uri": "https://localhost:8080/",
          "height": 17
        },
        "id": "X3VVZdBVj9f_",
        "outputId": "c7b3d6a2-663b-4507-e7ec-9c1de2fd1271"
      },
      "source": [
        "from google.colab import files\r\n",
        "\r\n",
        "torch.save(accs, 'dense_accs_augment')\r\n",
        "files.download('dense_accs_augment') "
      ],
      "execution_count": null,
      "outputs": [
        {
          "output_type": "display_data",
          "data": {
            "application/javascript": [
              "\n",
              "    async function download(id, filename, size) {\n",
              "      if (!google.colab.kernel.accessAllowed) {\n",
              "        return;\n",
              "      }\n",
              "      const div = document.createElement('div');\n",
              "      const label = document.createElement('label');\n",
              "      label.textContent = `Downloading \"${filename}\": `;\n",
              "      div.appendChild(label);\n",
              "      const progress = document.createElement('progress');\n",
              "      progress.max = size;\n",
              "      div.appendChild(progress);\n",
              "      document.body.appendChild(div);\n",
              "\n",
              "      const buffers = [];\n",
              "      let downloaded = 0;\n",
              "\n",
              "      const channel = await google.colab.kernel.comms.open(id);\n",
              "      // Send a message to notify the kernel that we're ready.\n",
              "      channel.send({})\n",
              "\n",
              "      for await (const message of channel.messages) {\n",
              "        // Send a message to notify the kernel that we're ready.\n",
              "        channel.send({})\n",
              "        if (message.buffers) {\n",
              "          for (const buffer of message.buffers) {\n",
              "            buffers.push(buffer);\n",
              "            downloaded += buffer.byteLength;\n",
              "            progress.value = downloaded;\n",
              "          }\n",
              "        }\n",
              "      }\n",
              "      const blob = new Blob(buffers, {type: 'application/binary'});\n",
              "      const a = document.createElement('a');\n",
              "      a.href = window.URL.createObjectURL(blob);\n",
              "      a.download = filename;\n",
              "      div.appendChild(a);\n",
              "      a.click();\n",
              "      div.remove();\n",
              "    }\n",
              "  "
            ],
            "text/plain": [
              "<IPython.core.display.Javascript object>"
            ]
          },
          "metadata": {
            "tags": []
          }
        },
        {
          "output_type": "display_data",
          "data": {
            "application/javascript": [
              "download(\"download_aacd7cd2-09c3-4478-bf29-a1621196b0d5\", \"dense_accs_augment\", 15407)"
            ],
            "text/plain": [
              "<IPython.core.display.Javascript object>"
            ]
          },
          "metadata": {
            "tags": []
          }
        }
      ]
    },
    {
      "cell_type": "code",
      "metadata": {
        "id": "kdSaqkgYiggD",
        "colab": {
          "base_uri": "https://localhost:8080/",
          "height": 1000
        },
        "outputId": "db5e8441-137d-4c7b-eb70-719c8c1b59d4"
      },
      "source": [
        "plt.figure()\r\n",
        "plt.hist(accs[:, 0])\r\n",
        "plt.title(\"Aggregate Accuracy\")\r\n",
        "plt.show()\r\n",
        "\r\n",
        "plt.figure()\r\n",
        "plt.hist(accs[:, 1])\r\n",
        "plt.title(\"Class 0 Accuracy\")\r\n",
        "plt.show()\r\n",
        "\r\n",
        "plt.figure()\r\n",
        "plt.hist(accs[:, 2])\r\n",
        "plt.title(\"Class 1 Accuracy\")\r\n",
        "plt.show()\r\n",
        "\r\n",
        "plt.figure()\r\n",
        "plt.hist(accs[:, 3])\r\n",
        "plt.title(\"Class 2 Accuracy\")\r\n",
        "plt.show()\r\n",
        "\r\n",
        "plt.figure()\r\n",
        "plt.hist(accs[:, 4])\r\n",
        "plt.title(\"Class 3 Accuracy\")\r\n",
        "plt.show()"
      ],
      "execution_count": null,
      "outputs": [
        {
          "output_type": "display_data",
          "data": {
            "image/png": "[encoded data removed]",
            "text/plain": [
              "<Figure size 432x288 with 1 Axes>"
            ]
          },
          "metadata": {
            "tags": [],
            "needs_background": "light"
          }
        },
        {
          "output_type": "display_data",
          "data": {
            "image/png": "[encoded data removed]",
            "text/plain": [
              "<Figure size 432x288 with 1 Axes>"
            ]
          },
          "metadata": {
            "tags": [],
            "needs_background": "light"
          }
        },
        {
          "output_type": "display_data",
          "data": {
            "image/png": "[encoded data removed]",
            "text/plain": [
              "<Figure size 432x288 with 1 Axes>"
            ]
          },
          "metadata": {
            "tags": [],
            "needs_background": "light"
          }
        },
        {
          "output_type": "display_data",
          "data": {
            "image/png": "[encoded data removed]",
            "text/plain": [
              "<Figure size 432x288 with 1 Axes>"
            ]
          },
          "metadata": {
            "tags": [],
            "needs_background": "light"
          }
        },
        {
          "output_type": "display_data",
          "data": {
            "image/png": "[encoded data removed]",
            "text/plain": [
              "<Figure size 432x288 with 1 Axes>"
            ]
          },
          "metadata": {
            "tags": [],
            "needs_background": "light"
          }
        }
      ]
    },
    {
      "cell_type": "code",
      "metadata": {
        "id": "JzDTA1TYGa7S"
      },
      "source": [
        ""
      ],
      "execution_count": null,
      "outputs": []
    }
  ]
}